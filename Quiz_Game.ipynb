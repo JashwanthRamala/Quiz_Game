{
 "cells": [
  {
   "cell_type": "code",
   "execution_count": null,
   "id": "ce7accbf",
   "metadata": {},
   "outputs": [
    {
     "name": "stdout",
     "output_type": "stream",
     "text": [
      "Which planet is known as the Red Planet?\n",
      "1. Earth\n",
      "2. Mars\n",
      "3. Jupiter\n",
      "4. Saturn\n"
     ]
    }
   ],
   "source": [
    "# Function to display a question and get user's answer\n",
    "\n",
    "def ask_question(question, options, correct_answer):\n",
    "    print(question)\n",
    "    for i, option in enumerate(options, 1):\n",
    "        print(f\"{i}. {option}\")\n",
    "    \n",
    "    # Get user's answer and validate input\n",
    "    \n",
    "    while True:\n",
    "        try:\n",
    "            user_answer = int(input(\"Enter the Number of your answer: \"))\n",
    "            if 1 <= user_answer <= len(options):\n",
    "                break\n",
    "            else:\n",
    "                print(\"Please enter a valid option number.\")\n",
    "        except ValueError:\n",
    "            print(\"Please enter a number.\")\n",
    "    \n",
    "    # Check if the answer is correct\n",
    "    if options[user_answer - 1] == correct_answer:\n",
    "        print(\"Correct!\\n\")\n",
    "        return True\n",
    "    else:\n",
    "        print(f\"Incorrect. The correct answer is: {correct_answer}\\n\")\n",
    "        return False\n",
    "\n",
    "# Function to run the quiz\n",
    "def run_quiz(questions):\n",
    "    score = 0\n",
    "    for question, data in questions.items():\n",
    "        if ask_question(question, data['options'], data['answer']):\n",
    "            score += 1\n",
    "    \n",
    "    print(f\"Quiz completed! Your final score is: {score}/{len(questions)}\")\n",
    "\n",
    "# Quiz questions and answers\n",
    "quiz_questions = {\n",
    "    \"Which planet is known as the Red Planet?\": {\n",
    "        \"options\": [\"Earth\", \"Mars\", \"Jupiter\", \"Saturn\"],\n",
    "        \"answer\": \"Mars\"\n",
    "     },\n",
    "    \"What is the Holy Number for Muslims?\": {\n",
    "        \"options\": [\"7.86\", \"78.6\", \"786\", \"687\"],\n",
    "        \"answer\": \"786\"\n",
    "    },\n",
    "    \"What is the largest mammal in the world?\": {\n",
    "        \"options\": [\"Elephant\", \"Blue Whale\", \"Great White Shark\", \"Giraffe\"],\n",
    "        \"answer\": \"Blue Whale\"\n",
    "    },\n",
    "    \"Who is the Father of the Nation for India?\": {\n",
    "        \"options\": [\"Subhash Chandra Bose\", \"Dr. B.R. Ambedkar\", \"Mahatma Gandhi\", \"None\"],\n",
    "        \"answer\": \"None\"\n",
    "    },\n",
    "    \"Who is commonly referred to as the Father of the Nation in India?\": {\n",
    "        \"options\": [\"Subhash Chandra Bose\", \"Dr. B.R. Ambedkar\", \"Mahatma Gandhi\", \"None\"],\n",
    "        \"answer\": \"Mahatma Gandhi\"\n",
    "    }\n",
    "}\n",
    "\n",
    "# Run the quiz\n",
    "run_quiz(quiz_questions)\n"
   ]
  },
  {
   "cell_type": "code",
   "execution_count": null,
   "id": "f666d410",
   "metadata": {},
   "outputs": [],
   "source": []
  },
  {
   "cell_type": "code",
   "execution_count": null,
   "id": "b1cda270",
   "metadata": {},
   "outputs": [],
   "source": []
  }
 ],
 "metadata": {
  "kernelspec": {
   "display_name": "Python 3 (ipykernel)",
   "language": "python",
   "name": "python3"
  },
  "language_info": {
   "codemirror_mode": {
    "name": "ipython",
    "version": 3
   },
   "file_extension": ".py",
   "mimetype": "text/x-python",
   "name": "python",
   "nbconvert_exporter": "python",
   "pygments_lexer": "ipython3",
   "version": "3.11.5"
  }
 },
 "nbformat": 4,
 "nbformat_minor": 5
}
